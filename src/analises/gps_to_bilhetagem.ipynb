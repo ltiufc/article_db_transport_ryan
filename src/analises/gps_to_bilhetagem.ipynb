{
 "cells": [
  {
   "cell_type": "markdown",
   "metadata": {
    "collapsed": true
   },
   "source": [
    "# Análise do tempo de inserção da latitude e longitude em bilhetagem\n",
    "Comparativo entre bases de dados SQL e NoSQL."
   ]
  },
  {
   "cell_type": "markdown",
   "metadata": {},
   "source": [
    "# 1. Apresentação dos dados utilizados\n",
    "Para a análise foram utilizadas as informações tratadas disponibilizadas em arquivos CSV, usando os dados previavemente tratados."
   ]
  },
  {
   "cell_type": "markdown",
   "metadata": {},
   "source": [
    "## 1.1 GPS\n",
    "Base de rastreamento dos veículos de transporte público municipal de Fortaleza.\n",
    "\n",
    "![Dados de GPS em CSV](../../resources/imgs/dia19_gps_csv.PNG)"
   ]
  },
  {
   "cell_type": "markdown",
   "metadata": {},
   "source": [
    "## 1.2 Bilhetagem\n",
    "Base de bilhetagem no sistema de transporte público municipal de Fortaleza.\n",
    "\n",
    "![Dados de Bilhetagem em CSV](../../resources/imgs/dia19_bilhetagem_csv.png)"
   ]
  },
  {
   "cell_type": "markdown",
   "metadata": {},
   "source": [
    "# 2 Apresentação das databases propostas"
   ]
  },
  {
   "cell_type": "markdown",
   "metadata": {},
   "source": [
    "## 2.1 GPS\n",
    "As bases de GPS são usadas para inserir a latitude e a longitude em Bilhetagem."
   ]
  },
  {
   "cell_type": "markdown",
   "metadata": {},
   "source": [
    "### 2.1.1 Estruturada\n",
    "\n",
    "![Estrutura da base de GPS em SQL](../../resources/imgs/sql_gps.PNG)"
   ]
  },
  {
   "cell_type": "markdown",
   "metadata": {},
   "source": [
    "### 2.1.2 Não-Estruturada Aninhada\n",
    "\n",
    "![Estrutura Aninhada de GPS em NoSQL](../../resources/imgs/estrutura_gps_novembro.png)"
   ]
  },
  {
   "cell_type": "markdown",
   "metadata": {},
   "source": [
    "## 2.2 Bilhetagem"
   ]
  },
  {
   "cell_type": "markdown",
   "metadata": {},
   "source": [
    "### 2.2.1 Estruturada\n",
    "A base estruturada foi executada em um banco de dados mysql (versão 8.0.27).\n",
    "Não foram utilizadas tecnicas para melhoria dessa performance nesse tipo de banco de dados.\n",
    "\n",
    "![Estrutura da base de Bilhetagem em SQL](../../resources/imgs/sql_bilhetagem.PNG)"
   ]
  },
  {
   "cell_type": "markdown",
   "metadata": {},
   "source": [
    "### 2.2.2 Não-estruturada planar\n",
    "A base não-estruturada foi executada em um banco de dados MongoDB (versão 5.0.4).\n",
    "Nessa modelagem, os campos dos documentos não-estruturados foram simplesmente traduzidos do banco de dados estruturado para o não-estruturado, sem nenhum tipo de otimização.\n",
    "\n",
    "![Estrutura Planar de Bilhetagem em NoSQL](../../resources/imgs/estrutura_bilhetagem_novembro_planar.png)"
   ]
  },
  {
   "cell_type": "markdown",
   "metadata": {},
   "source": [
    "### 2.2.3 Não-estruturada aninhada\n",
    "A base não-estruturada foi executada em um banco de dados MongoDB (versão 5.0.4).\n",
    "Nessa modelagem, os campos dos documentos não-estruturados de bilhetagem foram aninhados com os atributos de viagem.\n",
    "\n",
    "![Estrutura Aninhada de Bilhetagem em NoSQL](../../resources/imgs/estrutura_bilhetagem_novembro_aninhada.png)"
   ]
  },
  {
   "cell_type": "markdown",
   "metadata": {},
   "source": [
    "### 2.2.4 Não-estruturada aninhada com índice\n",
    "A base não-estruturada foi executada em um banco de dados MongoDB (versão 5.0.4).\n",
    "Nessa modelagem, os campos dos documentos não-estruturados de bilhetagem foram aninhados com os atributos de viagem.\n",
    "Aqui também foi criado um índice nos atributos timestamp e código de dicionário para acelerar as consultas ao banco de validações.\n",
    "\n",
    "![Estrutura Aninhada de Bilhetagem em NoSQL com índices](../../resources/imgs/estrutura_bilhetagem_novembro_indice.png)"
   ]
  },
  {
   "cell_type": "markdown",
   "metadata": {},
   "source": [
    "# 3 Procedimentos metodológicos"
   ]
  },
  {
   "cell_type": "markdown",
   "metadata": {},
   "source": [
    "## 3.1  Tratamento inicial\n",
    "Configurando as bases de dados e estruturando os modelos para a análise.\n",
    "Criação da base de dados inicial"
   ]
  },
  {
   "cell_type": "code",
   "execution_count": 2,
   "metadata": {
    "ExecuteTime": {
     "end_time": "2023-07-02T20:47:33.985042300Z",
     "start_time": "2023-07-02T20:47:32.753116900Z"
    }
   },
   "outputs": [],
   "source": [
    "import sys\n",
    "sys.path.insert(0,'../services')\n",
    "\n",
    "from pymysql import connect\n",
    "from pymongo import MongoClient\n",
    "from DatabaseSQLService import (\n",
    "    criarBancosDeDados as create_database\n",
    ")\n",
    "import pandas as pd\n",
    "import GpsToBilhetagem as gb\n",
    "from GpsService import  ( \n",
    "    inserirGpsSQL as inserir_gps_sql, \n",
    "    inserirGpsMongoDB as inserir_gps_nosql, \n",
    "    gpsSelecionarIntervaloDeTempo as gps_hora\n",
    ")\n",
    "\n",
    "gps_path = '../../resources/tratados/gps/dia19_hora.csv'\n",
    "bilhe_path = '../../resources/tratados/bilhetagem/dia19_hora.csv'\n",
    "\n",
    "conexao = connect(\n",
    "    host='localhost',\n",
    "    user='root',\n",
    "    password='123456',\n",
    "    database='bigdata_tp'\n",
    ")\n",
    "\n",
    "client = MongoClient('localhost', 27017)\n",
    "create_database(conexao)\n",
    "database_mongo = client['bigdata_tp']"
   ]
  },
  {
   "cell_type": "markdown",
   "metadata": {
    "collapsed": false
   },
   "source": []
  },
  {
   "cell_type": "markdown",
   "metadata": {},
   "source": [
    "### 3.1.1 Definição do período do experimento\n",
    "Definindo o tamanho da amostra com base no intervalo de tempo.\n",
    "\n",
    "Foram adotadas informações referentes a um intervalo de quinze minutos.\n",
    "\n",
    "**De:** 2018-11-19 (21:00:00)\n",
    "**Até:** 2018-11-19 (21:15:00)"
   ]
  },
  {
   "cell_type": "code",
   "execution_count": null,
   "metadata": {},
   "outputs": [],
   "source": [
    "gb.bilhetagem_hora('../../resources/tratados/bilhetagem/dia19.csv')\n",
    "gps_hora('../../resources/tratados/gps/dia19.csv')"
   ]
  },
  {
   "cell_type": "markdown",
   "source": [
    "## 3.2 Preparação das bases\n",
    "Inserção dos dados das amostras no SQL e no MongoDB"
   ],
   "metadata": {
    "collapsed": false
   }
  },
  {
   "cell_type": "markdown",
   "source": [
    "### 3.2.2 Preparação dos dados de GPS"
   ],
   "metadata": {
    "collapsed": false
   }
  },
  {
   "cell_type": "code",
   "execution_count": null,
   "outputs": [],
   "source": [
    "from src.services.GpsService import inserirGpsSQL\n",
    "\n",
    "inserirGpsSQL(conexao,'../../resources/tratados/gps/GPS7Dias/gps_novembro 05.csv')"
   ],
   "metadata": {
    "collapsed": false
   }
  },
  {
   "cell_type": "markdown",
   "source": [],
   "metadata": {
    "collapsed": false
   }
  },
  {
   "cell_type": "code",
   "execution_count": null,
   "outputs": [],
   "source": [
    "inserir_gps_nosql(database_mongo,'../../resources/tratados/gps/GPS7Dias/gps_novembro 05.csv')"
   ],
   "metadata": {
    "collapsed": false,
    "pycharm": {
     "is_executing": true
    }
   }
  },
  {
   "cell_type": "code",
   "execution_count": 8,
   "outputs": [
    {
     "data": {
      "text/plain": "1.5985295999998925"
     },
     "execution_count": 8,
     "metadata": {},
     "output_type": "execute_result"
    }
   ],
   "source": [
    "gb.inserirLatitudeELongitudeSQL(conexao, '20:00:00','20:30:00')"
   ],
   "metadata": {
    "collapsed": false,
    "ExecuteTime": {
     "end_time": "2023-07-02T20:59:19.107876800Z",
     "start_time": "2023-07-02T20:59:17.499307800Z"
    }
   }
  },
  {
   "cell_type": "code",
   "execution_count": 3,
   "outputs": [
    {
     "data": {
      "text/plain": "2.660219199999119"
     },
     "execution_count": 3,
     "metadata": {},
     "output_type": "execute_result"
    }
   ],
   "source": [
    "gb.inserirLatitudeELongitudeSQL(conexao, '20:00:00','21:00:00')"
   ],
   "metadata": {
    "collapsed": false,
    "ExecuteTime": {
     "end_time": "2023-07-02T20:47:36.658655100Z",
     "start_time": "2023-07-02T20:47:33.985042300Z"
    }
   }
  },
  {
   "cell_type": "code",
   "execution_count": 4,
   "outputs": [
    {
     "data": {
      "text/plain": "4.988128800003324"
     },
     "execution_count": 4,
     "metadata": {},
     "output_type": "execute_result"
    }
   ],
   "source": [
    "gb.inserirLatitudeELongitudeSQL(conexao, '13:00:00','17:00:00')"
   ],
   "metadata": {
    "collapsed": false,
    "ExecuteTime": {
     "end_time": "2023-07-02T20:47:41.687411100Z",
     "start_time": "2023-07-02T20:47:36.657653100Z"
    }
   }
  },
  {
   "cell_type": "code",
   "execution_count": 5,
   "outputs": [
    {
     "data": {
      "text/plain": "7.3253430999902776"
     },
     "execution_count": 5,
     "metadata": {},
     "output_type": "execute_result"
    }
   ],
   "source": [
    "gb.inserirLatitudeELongitudeSQL(conexao, '11:00:00','17:00:00')"
   ],
   "metadata": {
    "collapsed": false,
    "ExecuteTime": {
     "end_time": "2023-07-02T20:47:49.056645300Z",
     "start_time": "2023-07-02T20:47:41.686410300Z"
    }
   }
  },
  {
   "cell_type": "code",
   "execution_count": 6,
   "outputs": [
    {
     "data": {
      "text/plain": "15.13636229999247"
     },
     "execution_count": 6,
     "metadata": {},
     "output_type": "execute_result"
    }
   ],
   "source": [
    "gb.inserirLatitudeELongitudeSQL(conexao, '6:00:00','18:00:00')"
   ],
   "metadata": {
    "collapsed": false,
    "ExecuteTime": {
     "end_time": "2023-07-02T20:48:04.335537800Z",
     "start_time": "2023-07-02T20:47:49.055644100Z"
    }
   }
  },
  {
   "cell_type": "code",
   "execution_count": null,
   "outputs": [],
   "source": [
    "gb.inserirBilhetagemSQL(conexao,'../../resources/tratados/bilhetagem/Bilhetagem4Dias/bilhetagem_05.csv')"
   ],
   "metadata": {
    "collapsed": false
   }
  },
  {
   "cell_type": "markdown",
   "metadata": {},
   "source": [
    "### 3.2.3 Preparação dos dados de bilhetagem"
   ]
  },
  {
   "cell_type": "code",
   "execution_count": null,
   "metadata": {},
   "outputs": [],
   "source": [
    "#gb.inserirBilhetagemSQL(conexao,'../../resources/tratados/bilhetagem/Bilhetagem4Dias/bilhetagem_05.csv')\n",
    "gb.inserirBilhetagemPlanarMongoDB(database_mongo,'../../resources/tratados/bilhetagem/Bilhetagem4Dias/bilhetagem_05.csv')\n",
    "gb.inserirBilhetagemAninhadaMongoDB(database_mongo,'../../resources/tratados/bilhetagem/Bilhetagem4Dias/bilhetagem_05.csv')\n",
    "gb.inserirBilhetagemComIndiceMongoDB(database_mongo,'../../resources/tratados/bilhetagem/Bilhetagem4Dias/bilhetagem_05.csv')"
   ]
  },
  {
   "cell_type": "markdown",
   "source": [],
   "metadata": {
    "collapsed": false
   }
  },
  {
   "cell_type": "markdown",
   "metadata": {},
   "source": [
    "## 3.3 Execução da análise\n",
    "Execução do procedimento de inserção de latitude e longitude na base de bilhetagem."
   ]
  },
  {
   "cell_type": "code",
   "execution_count": null,
   "outputs": [],
   "source": [],
   "metadata": {
    "collapsed": false
   }
  },
  {
   "cell_type": "code",
   "execution_count": 2,
   "metadata": {
    "pycharm": {
     "is_executing": true
    },
    "ExecuteTime": {
     "end_time": "2023-06-21T07:36:50.781233700Z",
     "start_time": "2023-06-20T23:56:30.479633700Z"
    }
   },
   "outputs": [
    {
     "name": "stdout",
     "output_type": "stream",
     "text": [
      "1982.5 4920.3 6828.7 13888.8\n"
     ]
    }
   ],
   "source": [
    "# sql = gb(conexao,bilhe_path)\n",
    "planar_lat_long_uma_hora = gb.inserirLatitudeELongitudeNaPlanar(database_mongo,20,21)\n",
    "planar_lat_long_quatro_horas = gb.inserirLatitudeELongitudeNaPlanar(database_mongo,13,17)\n",
    "planar_lat_long_seis_horas = gb.inserirLatitudeELongitudeNaPlanar(database_mongo,11,17)\n",
    "planar_lat_long_doze_horas = gb.inserirLatitudeELongitudeNaPlanar(database_mongo,6,18)\n",
    "# planar_lat_long_doze_horas = gb.inserirLatitudeELongitudeNaPlanar(database_mongo,20,21)\n",
    "\n",
    "print(round(planar_lat_long_uma_hora,1), round(planar_lat_long_quatro_horas,1),\n",
    "      round(planar_lat_long_seis_horas,1), round(planar_lat_long_doze_horas,1))\n",
    "1982.5 4920.3 6828.7 13888.8\n",
    "\n",
    "\n",
    "# aninhado_lat_long = gb.inserirLatitudeELongitudeNaAninhadaMongoDB(database_mongo)\n",
    "# indice_lat_long =  gb.inserirLatitudeELongitudeComIndiceMongoDB(database_mongo)"
   ]
  },
  {
   "cell_type": "code",
   "execution_count": 4,
   "outputs": [
    {
     "name": "stdout",
     "output_type": "stream",
     "text": [
      "213.3 210.7 215.1 210.4\n"
     ]
    }
   ],
   "source": [
    "i_aninhada_lat_long_uma_hora = gb.inserirLatitudeELongitudeComIndiceMongoDB(database_mongo,20,21)\n",
    "i_aninhada_lat_long_quatro_horas = gb.inserirLatitudeELongitudeComIndiceMongoDB(database_mongo,13,17)\n",
    "i_aninhada_lat_long_seis_horas = gb.inserirLatitudeELongitudeComIndiceMongoDB(database_mongo,11,17)\n",
    "i_aninhada_lat_long_doze_horas = gb.inserirLatitudeELongitudeComIndiceMongoDB(database_mongo,6,18)\n",
    "# aninhada_lat_long_doze_horas = gb.inserirLatitudeELongitudeNaPlanar(database_mongo,20,21)\n",
    "213.3 210.7 215.1 210.4\n",
    "print(round(i_aninhada_lat_long_uma_hora,1), round(i_aninhada_lat_long_quatro_horas,1),\n",
    "      round(i_aninhada_lat_long_seis_horas,1), round(i_aninhada_lat_long_doze_horas,1))"
   ],
   "metadata": {
    "collapsed": false,
    "ExecuteTime": {
     "end_time": "2023-06-22T22:47:59.474924200Z",
     "start_time": "2023-06-22T22:33:47.436669500Z"
    }
   }
  },
  {
   "cell_type": "code",
   "execution_count": 3,
   "outputs": [
    {
     "name": "stdout",
     "output_type": "stream",
     "text": [
      "189.1 198.6 188.2 200.4\n"
     ]
    }
   ],
   "source": [
    "aninhada_lat_long_uma_hora = gb.inserirLatitudeELongitudeNaAninhadaMongoDB(database_mongo,20,21)\n",
    "aninhada_lat_long_quatro_horas = gb.inserirLatitudeELongitudeNaAninhadaMongoDB(database_mongo,13,17)\n",
    "aninhada_lat_long_seis_horas = gb.inserirLatitudeELongitudeNaAninhadaMongoDB(database_mongo,11,17)\n",
    "aninhada_lat_long_doze_horas = gb.inserirLatitudeELongitudeNaAninhadaMongoDB(database_mongo,6,18)\n",
    "# aninhada_lat_long_doze_horas = gb.inserirLatitudeELongitudeNaPlanar(database_mongo,20,21)\n",
    "\n",
    "189.1 198.6 188.2 200.4\n",
    "\n",
    "print(round(aninhada_lat_long_uma_hora,1), round(aninhada_lat_long_quatro_horas,1),\n",
    "      round(aninhada_lat_long_seis_horas,1), round(aninhada_lat_long_doze_horas,1))"
   ],
   "metadata": {
    "collapsed": false,
    "ExecuteTime": {
     "end_time": "2023-06-21T23:50:31.110931500Z",
     "start_time": "2023-06-21T23:37:32.615385800Z"
    }
   }
  },
  {
   "cell_type": "markdown",
   "metadata": {},
   "source": [
    "## 3.4 Analise comparativa da performance\n",
    "#### Máquina utilizada para análise:\n",
    "Processador: i5 9400F\n",
    "Memória RAM: 8GB DDR4 2400MHz\n",
    "Disco Rígido: SSD NVMe n.2 240GB\n",
    "Placa de Vídeo: GTX 1050 TI 4GB GDDR5"
   ]
  },
  {
   "cell_type": "code",
   "execution_count": 7,
   "metadata": {
    "ExecuteTime": {
     "end_time": "2023-06-20T00:04:59.368731900Z",
     "start_time": "2023-06-20T00:04:59.335732300Z"
    }
   },
   "outputs": [
    {
     "data": {
      "text/plain": "          Tamanho de GPS (registros)  Tamanho de Bilhetagem (registros)  \\\nSQL                            45983                               6455   \nPlanar                         45983                               6455   \nAninhado                       45983                               6455   \nIndice                         45983                               6455   \n\n          Tempo de inserção (s)  \nSQL                         0.0  \nPlanar                      0.0  \nAninhado                   32.5  \nIndice                     54.6  ",
      "text/html": "<div>\n<style scoped>\n    .dataframe tbody tr th:only-of-type {\n        vertical-align: middle;\n    }\n\n    .dataframe tbody tr th {\n        vertical-align: top;\n    }\n\n    .dataframe thead th {\n        text-align: right;\n    }\n</style>\n<table border=\"1\" class=\"dataframe\">\n  <thead>\n    <tr style=\"text-align: right;\">\n      <th></th>\n      <th>Tamanho de GPS (registros)</th>\n      <th>Tamanho de Bilhetagem (registros)</th>\n      <th>Tempo de inserção (s)</th>\n    </tr>\n  </thead>\n  <tbody>\n    <tr>\n      <th>SQL</th>\n      <td>45983</td>\n      <td>6455</td>\n      <td>0.0</td>\n    </tr>\n    <tr>\n      <th>Planar</th>\n      <td>45983</td>\n      <td>6455</td>\n      <td>0.0</td>\n    </tr>\n    <tr>\n      <th>Aninhado</th>\n      <td>45983</td>\n      <td>6455</td>\n      <td>32.5</td>\n    </tr>\n    <tr>\n      <th>Indice</th>\n      <td>45983</td>\n      <td>6455</td>\n      <td>54.6</td>\n    </tr>\n  </tbody>\n</table>\n</div>"
     },
     "execution_count": 7,
     "metadata": {},
     "output_type": "execute_result"
    }
   ],
   "source": [
    "gps_size = 45983\n",
    "b_size = 6455\n",
    "df2 = pd.DataFrame([[ gps_size, b_size,round(0)],\n",
    "                    [gps_size, b_size, round(0,1)],\n",
    "                    [gps_size, b_size, round(32.5,1)],\n",
    "                    [gps_size,b_size,round(54.6,1)]],\n",
    "                   index=['SQL','Planar','Aninhado','Indice'],\n",
    "                   columns=['Tamanho de GPS (registros)', 'Tamanho de Bilhetagem (registros)','Tempo de inserção (s)'])\n",
    "df2"
   ]
  },
  {
   "cell_type": "code",
   "execution_count": 6,
   "metadata": {
    "collapsed": false,
    "ExecuteTime": {
     "end_time": "2023-06-20T00:04:41.515200200Z",
     "start_time": "2023-06-20T00:04:40.613914800Z"
    }
   },
   "outputs": [
    {
     "ename": "AttributeError",
     "evalue": "module 'GpsToBilhetagem' has no attribute 'coordinates_indice'",
     "output_type": "error",
     "traceback": [
      "\u001B[1;31m---------------------------------------------------------------------------\u001B[0m",
      "\u001B[1;31mAttributeError\u001B[0m                            Traceback (most recent call last)",
      "Cell \u001B[1;32mIn[6], line 3\u001B[0m\n\u001B[0;32m      1\u001B[0m \u001B[38;5;28;01mimport\u001B[39;00m \u001B[38;5;21;01mplotly\u001B[39;00m\u001B[38;5;21;01m.\u001B[39;00m\u001B[38;5;21;01mexpress\u001B[39;00m \u001B[38;5;28;01mas\u001B[39;00m \u001B[38;5;21;01mpx\u001B[39;00m\n\u001B[1;32m----> 3\u001B[0m lat, long \u001B[38;5;241m=\u001B[39m \u001B[43mgb\u001B[49m\u001B[38;5;241;43m.\u001B[39;49m\u001B[43mcoordinates_indice\u001B[49m(database_mongo)\n\u001B[0;32m      4\u001B[0m df \u001B[38;5;241m=\u001B[39m pd\u001B[38;5;241m.\u001B[39mDataFrame([lat,long],index\u001B[38;5;241m=\u001B[39m[\u001B[38;5;124m'\u001B[39m\u001B[38;5;124mlatitude\u001B[39m\u001B[38;5;124m'\u001B[39m,\u001B[38;5;124m'\u001B[39m\u001B[38;5;124mlongitude\u001B[39m\u001B[38;5;124m'\u001B[39m])\u001B[38;5;241m.\u001B[39mtranspose()\n\u001B[0;32m      6\u001B[0m fig \u001B[38;5;241m=\u001B[39m px\u001B[38;5;241m.\u001B[39mscatter(df, x\u001B[38;5;241m=\u001B[39m\u001B[38;5;124m\"\u001B[39m\u001B[38;5;124mlatitude\u001B[39m\u001B[38;5;124m\"\u001B[39m, y\u001B[38;5;241m=\u001B[39m\u001B[38;5;124m\"\u001B[39m\u001B[38;5;124mlongitude\u001B[39m\u001B[38;5;124m\"\u001B[39m)\n",
      "\u001B[1;31mAttributeError\u001B[0m: module 'GpsToBilhetagem' has no attribute 'coordinates_indice'"
     ]
    }
   ],
   "source": [
    "import plotly.express as px\n",
    "\n",
    "lat, long = gb.coordinates_indice(database_mongo)\n",
    "df = pd.DataFrame([lat,long],index=['latitude','longitude']).transpose()\n",
    "\n",
    "fig = px.scatter(df, x=\"latitude\", y=\"longitude\")\n",
    "fig.show()"
   ]
  },
  {
   "cell_type": "code",
   "execution_count": 10,
   "metadata": {
    "collapsed": false,
    "ExecuteTime": {
     "end_time": "2023-06-20T00:05:32.415092400Z",
     "start_time": "2023-06-20T00:05:32.401958700Z"
    }
   },
   "outputs": [
    {
     "name": "stdout",
     "output_type": "stream",
     "text": [
      "32.5\n"
     ]
    }
   ],
   "source": []
  }
 ],
 "metadata": {
  "interpreter": {
   "hash": "933eb05d2d992fc4c5234bad8fa6441c90bb85821c88876fec8473b9a2f8e063"
  },
  "kernelspec": {
   "display_name": "Python 3 (ipykernel)",
   "language": "python",
   "name": "python3"
  },
  "language_info": {
   "codemirror_mode": {
    "name": "ipython",
    "version": 3
   },
   "file_extension": ".py",
   "mimetype": "text/x-python",
   "name": "python",
   "nbconvert_exporter": "python",
   "pygments_lexer": "ipython3",
   "version": "3.8.10"
  }
 },
 "nbformat": 4,
 "nbformat_minor": 1
}
