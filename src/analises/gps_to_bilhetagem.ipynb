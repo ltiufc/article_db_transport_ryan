{
 "cells": [
  {
   "cell_type": "markdown",
   "metadata": {
    "collapsed": true
   },
   "source": [
    "# Análise do tempo de inserção da latitude e longitude em bilhetagem\n",
    "Comparativo entre bases de dados SQL e NoSQL."
   ]
  },
  {
   "cell_type": "markdown",
   "metadata": {},
   "source": [
    "# 1. Apresentação dos dados utilizados\n",
    "Para a análise foram utilizadas as informações tratadas disponibilizadas em arquivos CSV, usando os dados previavemente tratados."
   ]
  },
  {
   "cell_type": "markdown",
   "metadata": {},
   "source": [
    "## 1.1 GPS\n",
    "Base de rastreamento dos veículos de transporte público municipal de Fortaleza.\n",
    "\n",
    "![Dados de GPS em CSV](../../resources/imgs/dia19_gps_csv.PNG)"
   ]
  },
  {
   "cell_type": "markdown",
   "metadata": {},
   "source": [
    "## 1.2 Bilhetagem\n",
    "Base de bilhetagem no sistema de transporte público municipal de Fortaleza.\n",
    "\n",
    "![Dados de Bilhetagem em CSV](../../resources/imgs/dia19_bilhetagem_csv.png)"
   ]
  },
  {
   "cell_type": "markdown",
   "metadata": {},
   "source": [
    "# 2 Apresentação das databases propostas"
   ]
  },
  {
   "cell_type": "markdown",
   "metadata": {},
   "source": [
    "## 2.1 GPS\n",
    "As bases de GPS são usadas para inserir a latitude e a longitude em Bilhetagem."
   ]
  },
  {
   "cell_type": "markdown",
   "metadata": {},
   "source": [
    "### 2.1.1 Estruturada\n",
    "\n",
    "![Estrutura da base de GPS em SQL](../../resources/imgs/sql_gps.PNG)"
   ]
  },
  {
   "cell_type": "markdown",
   "metadata": {},
   "source": [
    "### 2.1.2 Não-Estruturada Aninhada\n",
    "\n",
    "![Estrutura Aninhada de GPS em NoSQL](../../resources/imgs/estrutura_gps_novembro.png)"
   ]
  },
  {
   "cell_type": "markdown",
   "metadata": {},
   "source": [
    "## 2.2 Bilhetagem"
   ]
  },
  {
   "cell_type": "markdown",
   "metadata": {},
   "source": [
    "### 2.2.1 Estruturada\n",
    "A base estruturada foi executada em um banco de dados mysql (versão 8.0.27).\n",
    "Não foram utilizadas tecnicas para melhoria dessa performance nesse tipo de banco de dados.\n",
    "\n",
    "![Estrutura da base de Bilhetagem em SQL](../../resources/imgs/sql_bilhetagem.PNG)"
   ]
  },
  {
   "cell_type": "markdown",
   "metadata": {},
   "source": [
    "### 2.2.2 Não-estruturada planar\n",
    "A base não-estruturada foi executada em um banco de dados MongoDB (versão 5.0.4).\n",
    "Nessa modelagem, os campos dos documentos não-estruturados foram simplesmente traduzidos do banco de dados estruturado para o não-estruturado, sem nenhum tipo de otimização.\n",
    "\n",
    "![Estrutura Planar de Bilhetagem em NoSQL](../../resources/imgs/estrutura_bilhetagem_novembro_planar.png)"
   ]
  },
  {
   "cell_type": "markdown",
   "metadata": {},
   "source": [
    "### 2.2.3 Não-estruturada aninhada\n",
    "A base não-estruturada foi executada em um banco de dados MongoDB (versão 5.0.4).\n",
    "Nessa modelagem, os campos dos documentos não-estruturados de bilhetagem foram aninhados com os atributos de viagem.\n",
    "\n",
    "![Estrutura Aninhada de Bilhetagem em NoSQL](../../resources/imgs/estrutura_bilhetagem_novembro_aninhada.png)"
   ]
  },
  {
   "cell_type": "markdown",
   "metadata": {},
   "source": [
    "### 2.2.4 Não-estruturada aninhada com índice\n",
    "A base não-estruturada foi executada em um banco de dados MongoDB (versão 5.0.4).\n",
    "Nessa modelagem, os campos dos documentos não-estruturados de bilhetagem foram aninhados com os atributos de viagem.\n",
    "Aqui também foi criado um índice nos atributos timestamp e código de dicionário para acelerar as consultas ao banco de validações.\n",
    "\n",
    "![Estrutura Aninhada de Bilhetagem em NoSQL com índices](../../resources/imgs/estrutura_bilhetagem_novembro_indice.png)"
   ]
  },
  {
   "cell_type": "markdown",
   "metadata": {},
   "source": [
    "# 3 Procedimentos metodológicos"
   ]
  },
  {
   "cell_type": "markdown",
   "metadata": {},
   "source": [
    "## 3.1  Tratamento inicial\n",
    "Configurando as bases de dados e estruturando os modelos para a análise.\n",
    "Criação da base de dados inicial"
   ]
  },
  {
   "cell_type": "code",
   "metadata": {
    "ExecuteTime": {
     "end_time": "2024-05-10T04:29:04.122534Z",
     "start_time": "2024-05-10T04:29:03.452258Z"
    }
   },
   "source": [
    "import sys\n",
    "sys.path.insert(0,'../services')\n",
    "\n",
    "from pymysql import connect\n",
    "from pymongo import MongoClient\n",
    "from DatabaseSQLService import (\n",
    "    criarBancosDeDados as create_database\n",
    ")\n",
    "import pandas as pd\n",
    "import GpsToBilhetagem as gb\n",
    "from GpsService import  ( \n",
    "    inserirGpsSQL as inserir_gps_sql, \n",
    "    inserirGpsMongoDB as inserir_gps_nosql, \n",
    "    gpsSelecionarIntervaloDeTempo as gps_hora\n",
    ")\n",
    "\n",
    "gps_path = '../../resources/tratados/gps/dia19_hora.csv'\n",
    "bilhe_path = '../../resources/tratados/bilhetagem/dia19_hora.csv'\n",
    "\n",
    "conexao = connect(\n",
    "    host='localhost',\n",
    "    user='root',\n",
    "    password='123456',\n",
    "    database='bigdata_tp'\n",
    ")\n",
    "\n",
    "client = MongoClient('localhost', 27017)\n",
    "create_database(conexao)\n",
    "database_mongo = client['bigdata_tp']"
   ],
   "outputs": [],
   "execution_count": 1
  },
  {
   "cell_type": "markdown",
   "metadata": {
    "collapsed": false
   },
   "source": []
  },
  {
   "cell_type": "markdown",
   "metadata": {},
   "source": [
    "### 3.1.1 Definição do período do experimento\n",
    "Definindo o tamanho da amostra com base no intervalo de tempo.\n",
    "\n",
    "Foram adotadas informações referentes a um intervalo de quinze minutos.\n",
    "\n",
    "**De:** 2018-11-19 (21:00:00)\n",
    "**Até:** 2018-11-19 (21:15:00)"
   ]
  },
  {
   "cell_type": "code",
   "metadata": {},
   "source": [
    "gb.selecionarIntervaloDeTempoDeBilhetagem('../../resources/tratados/bilhetagem/dia19.csv')\n",
    "gps_hora('../../resources/tratados/gps/dia19.csv')"
   ],
   "outputs": [],
   "execution_count": null
  },
  {
   "cell_type": "markdown",
   "source": [
    "## 3.2 Preparação das bases\n",
    "Inserção dos dados das amostras no SQL e no MongoDB"
   ],
   "metadata": {
    "collapsed": false
   }
  },
  {
   "cell_type": "markdown",
   "source": [
    "### 3.2.2 Preparação dos dados de GPS"
   ],
   "metadata": {
    "collapsed": false
   }
  },
  {
   "cell_type": "code",
   "source": [
    "from src.services.GpsService import inserirGpsSQL\n",
    "\n",
    "inserirGpsSQL(conexao,'../../resources/tratados/gps/dia19_hora.csv')"
   ],
   "metadata": {
    "collapsed": false,
    "ExecuteTime": {
     "end_time": "2024-05-10T02:41:26.201515Z",
     "start_time": "2024-05-10T02:40:28.476861Z"
    }
   },
   "outputs": [],
   "execution_count": 8
  },
  {
   "cell_type": "markdown",
   "source": [],
   "metadata": {
    "collapsed": false
   }
  },
  {
   "cell_type": "code",
   "source": "inserir_gps_nosql(database_mongo,'../../resources/tratados/gps/dia19_hora.csv')",
   "metadata": {
    "collapsed": false,
    "pycharm": {
     "is_executing": true
    },
    "ExecuteTime": {
     "end_time": "2024-05-10T02:46:54.123112Z",
     "start_time": "2024-05-10T02:45:07.139003Z"
    }
   },
   "outputs": [],
   "execution_count": 9
  },
  {
   "cell_type": "code",
   "source": "gb.inserirLatitudeELongitudeSQL(conexao, '21:00:00','21:20:00')",
   "metadata": {
    "collapsed": false,
    "ExecuteTime": {
     "end_time": "2024-05-10T02:54:42.337645Z",
     "start_time": "2024-05-10T02:54:42.319586Z"
    }
   },
   "outputs": [],
   "execution_count": 12
  },
  {
   "cell_type": "code",
   "source": "gb.inserirLatitudeELongitudeSQL(conexao, '21:00:00','21:20:00')",
   "metadata": {
    "collapsed": false,
    "ExecuteTime": {
     "end_time": "2024-05-10T02:54:44.078203Z",
     "start_time": "2024-05-10T02:54:44.062174Z"
    }
   },
   "outputs": [],
   "execution_count": 13
  },
  {
   "cell_type": "code",
   "source": "gb.inserirLatitudeELongitudeSQL(conexao, '21:00:00','21:20:00')",
   "metadata": {
    "collapsed": false,
    "ExecuteTime": {
     "end_time": "2024-05-10T02:54:46.513244Z",
     "start_time": "2024-05-10T02:54:46.500694Z"
    }
   },
   "outputs": [],
   "execution_count": 14
  },
  {
   "cell_type": "code",
   "source": "gb.inserirLatitudeELongitudeSQL(conexao, '21:00:00','21:20:00')",
   "metadata": {
    "collapsed": false,
    "ExecuteTime": {
     "end_time": "2024-05-10T02:54:50.483031Z",
     "start_time": "2024-05-10T02:54:50.464004Z"
    }
   },
   "outputs": [],
   "execution_count": 15
  },
  {
   "cell_type": "code",
   "source": "gb.inserirLatitudeELongitudeSQL(conexao, '21:00:00','21:20:00')",
   "metadata": {
    "collapsed": false,
    "ExecuteTime": {
     "end_time": "2024-05-10T02:55:00.097615Z",
     "start_time": "2024-05-10T02:55:00.084080Z"
    }
   },
   "outputs": [],
   "execution_count": 16
  },
  {
   "cell_type": "code",
   "source": "gb.inserirBilhetagemSQL(conexao,'../../resources/tratados/bilhetagem/dia19_hora.csv')",
   "metadata": {
    "collapsed": false
   },
   "outputs": [],
   "execution_count": null
  },
  {
   "cell_type": "markdown",
   "metadata": {},
   "source": [
    "### 3.2.3 Preparação dos dados de bilhetagem"
   ]
  },
  {
   "cell_type": "code",
   "metadata": {
    "ExecuteTime": {
     "end_time": "2024-05-10T04:00:07.882288Z",
     "start_time": "2024-05-10T03:59:01.925547Z"
    }
   },
   "source": [
    "#gb.inserirBilhetagemSQL(conexao,'../../resources/tratados/bilhetagem/Bilhetagem4Dias/bilhetagem_05.csv')\n",
    "gb.inserirBilhetagemPlanarMongoDB(database_mongo,'../../resources/tratados/bilhetagem/dia19_hora.csv')\n",
    "gb.inserirBilhetagemAninhadaMongoDB(database_mongo,'../../resources/tratados/bilhetagem/dia19_hora.csv')\n",
    "gb.inserirBilhetagemComIndiceMongoDB(database_mongo,'../../resources/tratados/bilhetagem/dia19_hora.csv')"
   ],
   "outputs": [],
   "execution_count": 3
  },
  {
   "cell_type": "markdown",
   "source": [],
   "metadata": {
    "collapsed": false
   }
  },
  {
   "cell_type": "markdown",
   "metadata": {},
   "source": [
    "## 3.3 Execução da análise\n",
    "Execução do procedimento de inserção de latitude e longitude na base de bilhetagem."
   ]
  },
  {
   "cell_type": "code",
   "metadata": {
    "pycharm": {
     "is_executing": true
    },
    "ExecuteTime": {
     "end_time": "2024-05-10T05:10:49.410Z",
     "start_time": "2024-05-10T04:29:07.835114Z"
    }
   },
   "source": [
    "# sql = gb(conexao,bilhe_path)\n",
    "planar_lat_long_uma_hora = gb.inserirLatitudeELongitudeNaPlanar(database_mongo,20,21)\n",
    "planar_lat_long_quatro_horas = gb.inserirLatitudeELongitudeNaPlanar(database_mongo,13,17)\n",
    "planar_lat_long_seis_horas = gb.inserirLatitudeELongitudeNaPlanar(database_mongo,11,17)\n",
    "planar_lat_long_doze_horas = gb.inserirLatitudeELongitudeNaPlanar(database_mongo,6,18)\n",
    "# planar_lat_long_doze_horas = gb.inserirLatitudeELongitudeNaPlanar(database_mongo,20,21)\n",
    "\n",
    "print(round(planar_lat_long_uma_hora,1), round(planar_lat_long_quatro_horas,1),\n",
    "      round(planar_lat_long_seis_horas,1), round(planar_lat_long_doze_horas,1))\n",
    "#ANTIGO -  1982.5 4920.3 6828.7 13888.8\n",
    "\n",
    "\n",
    "# aninhado_lat_long = gb.inserirLatitudeELongitudeNaAninhadaMongoDB(database_mongo)\n",
    "# indice_lat_long =  gb.inserirLatitudeELongitudeComIndiceMongoDB(database_mongo)"
   ],
   "outputs": [
    {
     "name": "stderr",
     "output_type": "stream",
     "text": [
      "\n",
      "KeyboardInterrupt\n",
      "\n"
     ]
    }
   ],
   "execution_count": 2
  },
  {
   "cell_type": "code",
   "source": [
    "i_aninhada_lat_long_uma_hora = gb.inserirLatitudeELongitudeComIndiceMongoDB(database_mongo,20,21)\n",
    "i_aninhada_lat_long_quatro_horas = gb.inserirLatitudeELongitudeComIndiceMongoDB(database_mongo,13,17)\n",
    "i_aninhada_lat_long_seis_horas = gb.inserirLatitudeELongitudeComIndiceMongoDB(database_mongo,11,17)\n",
    "i_aninhada_lat_long_doze_horas = gb.inserirLatitudeELongitudeComIndiceMongoDB(database_mongo,6,18)\n",
    "# aninhada_lat_long_doze_horas = gb.inserirLatitudeELongitudeNaPlanar(database_mongo,20,21)\n",
    "213.3 210.7 215.1 210.4\n",
    "print(round(i_aninhada_lat_long_uma_hora,1), round(i_aninhada_lat_long_quatro_horas,1),\n",
    "      round(i_aninhada_lat_long_seis_horas,1), round(i_aninhada_lat_long_doze_horas,1))"
   ],
   "metadata": {
    "collapsed": false
   },
   "outputs": [],
   "execution_count": null
  },
  {
   "cell_type": "code",
   "source": [
    "aninhada_lat_long_uma_hora = gb.inserirLatitudeELongitudeNaAninhadaMongoDB(database_mongo,20,21)\n",
    "aninhada_lat_long_quatro_horas = gb.inserirLatitudeELongitudeNaAninhadaMongoDB(database_mongo,13,17)\n",
    "aninhada_lat_long_seis_horas = gb.inserirLatitudeELongitudeNaAninhadaMongoDB(database_mongo,11,17)\n",
    "aninhada_lat_long_doze_horas = gb.inserirLatitudeELongitudeNaAninhadaMongoDB(database_mongo,6,18)\n",
    "# aninhada_lat_long_doze_horas = gb.inserirLatitudeELongitudeNaPlanar(database_mongo,20,21)\n",
    "\n",
    "# 189.1 198.6 188.2 200.4\n",
    "\n",
    "print(round(aninhada_lat_long_uma_hora,1), round(aninhada_lat_long_quatro_horas,1),\n",
    "      round(aninhada_lat_long_seis_horas,1), round(aninhada_lat_long_doze_horas,1))"
   ],
   "metadata": {
    "collapsed": false
   },
   "outputs": [],
   "execution_count": null
  },
  {
   "cell_type": "markdown",
   "metadata": {},
   "source": [
    "## 3.4 Analise comparativa da performance\n",
    "#### Máquina utilizada para análise:\n",
    "Processador: i5 9400F\n",
    "Memória RAM: 8GB DDR4 2400MHz\n",
    "Disco Rígido: SSD NVMe n.2 240GB\n",
    "Placa de Vídeo: GTX 1050 TI 4GB GDDR5"
   ]
  },
  {
   "cell_type": "code",
   "metadata": {},
   "source": [
    "gps_size = 45983\n",
    "b_size = 6455\n",
    "df2 = pd.DataFrame([[ gps_size, b_size,round(0)],\n",
    "                    [gps_size, b_size, round(0,1)],\n",
    "                    [gps_size, b_size, round(32.5,1)],\n",
    "                    [gps_size,b_size,round(54.6,1)]],\n",
    "                   index=['SQL','Planar','Aninhado','Indice'],\n",
    "                   columns=['Tamanho de GPS (registros)', 'Tamanho de Bilhetagem (registros)','Tempo de inserção (s)'])\n",
    "df2"
   ],
   "outputs": [],
   "execution_count": null
  },
  {
   "cell_type": "code",
   "metadata": {
    "collapsed": false
   },
   "source": [
    "import plotly.express as px\n",
    "\n",
    "lat, long = gb.coordinates_indice(database_mongo)\n",
    "df = pd.DataFrame([lat,long],index=['latitude','longitude']).transpose()\n",
    "\n",
    "fig = px.scatter(df, x=\"latitude\", y=\"longitude\")\n",
    "fig.show()"
   ],
   "outputs": [],
   "execution_count": null
  },
  {
   "cell_type": "code",
   "metadata": {
    "collapsed": false
   },
   "source": [],
   "outputs": [],
   "execution_count": null
  },
  {
   "metadata": {},
   "cell_type": "code",
   "outputs": [],
   "execution_count": null,
   "source": ""
  }
 ],
 "metadata": {
  "interpreter": {
   "hash": "933eb05d2d992fc4c5234bad8fa6441c90bb85821c88876fec8473b9a2f8e063"
  },
  "kernelspec": {
   "display_name": "Python 3 (ipykernel)",
   "language": "python",
   "name": "python3"
  },
  "language_info": {
   "codemirror_mode": {
    "name": "ipython",
    "version": 3
   },
   "file_extension": ".py",
   "mimetype": "text/x-python",
   "name": "python",
   "nbconvert_exporter": "python",
   "pygments_lexer": "ipython3",
   "version": "3.8.10"
  }
 },
 "nbformat": 4,
 "nbformat_minor": 1
}
