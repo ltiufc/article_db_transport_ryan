{
 "cells": [
  {
   "cell_type": "markdown",
   "source": [
    "# Análise de uma parada em um determinado dia\n",
    "Comparativo entre bases de dados SQL e NoSQL."
   ],
   "metadata": {
    "collapsed": false
   }
  },
  {
   "cell_type": "markdown",
   "source": [
    "# 1. Apresentação dos dados utilizados\n",
    "Para a análise foram utilizadas as informações tratadas disponibilizadas em arquivos CSV, usando os dados previavemente tratados."
   ],
   "metadata": {
    "collapsed": false,
    "pycharm": {
     "name": "#%% md\n"
    }
   }
  },
  {
   "cell_type": "markdown",
   "source": [
    "## 1.1 Parada\n",
    "Base contendo as paradas de onibus de fortaleza"
   ],
   "metadata": {
    "collapsed": false
   }
  },
  {
   "cell_type": "markdown",
   "source": [
    "## 1.2 Bilhetagem\n",
    "Base de bilhetagem no sistema de transporte público municipal de Fortaleza."
   ],
   "metadata": {
    "collapsed": false,
    "pycharm": {
     "name": "#%% md\n"
    }
   }
  },
  {
   "cell_type": "markdown",
   "source": [
    "# 2 Apresentação das databases propostas"
   ],
   "metadata": {
    "collapsed": false
   }
  },
  {
   "cell_type": "markdown",
   "source": [
    "## 2.1 Parada\n",
    "As bases de parada foram usadas para amazenar a parada onde observará a movimentação"
   ],
   "metadata": {
    "collapsed": false
   }
  },
  {
   "cell_type": "markdown",
   "source": [
    "## 2.2 Bilhetagem\n",
    "As bases de bilhetagem foram usadas para observar a movimentação em um determinada parada"
   ],
   "metadata": {
    "collapsed": false
   }
  },
  {
   "cell_type": "markdown",
   "source": [
    "## 2.3 Parada Movimentação\n",
    "Criadas para armazenar a movimentação analisada em uma determinada parada"
   ],
   "metadata": {
    "collapsed": false
   }
  },
  {
   "cell_type": "markdown",
   "source": [
    "# 3 Procedimentos metodológicos"
   ],
   "metadata": {
    "collapsed": false,
    "pycharm": {
     "name": "#%% md\n"
    }
   }
  },
  {
   "cell_type": "markdown",
   "source": [
    "## 3.1  Tratamento inicial\n",
    "Configurando as bases de dados e estruturando os modelos para a análise.\n",
    "Criação da base de dados inicial"
   ],
   "metadata": {
    "collapsed": false
   }
  },
  {
   "cell_type": "code",
   "execution_count": null,
   "outputs": [],
   "source": [
    "from pymysql import connect\n",
    "from pymongo import MongoClient\n",
    "from DatabaseSQLService import criarBancosDeDados\n",
    "import ParadaMovimentacao as pMov\n",
    "\n",
    "bilhe_path = '../../resources/tratados/bilhetagem/dia19_hora.csv'\n",
    "parada_path = '../../resources/tratados/paradas/paradas.csv'\n",
    "conexao = connect(\n",
    "    host='localhost',\n",
    "    user='root',\n",
    "    password='qwe123',\n",
    "    database='bigdata_tp'\n",
    ")\n",
    "\n",
    "client = MongoClient('localhost', 27017)\n",
    "criarBancosDeDados(conexao)\n",
    "database_mongo = client['bigdata_tp']"
   ],
   "metadata": {
    "collapsed": false,
    "pycharm": {
     "name": "#%%\n"
    }
   }
  },
  {
   "cell_type": "markdown",
   "source": [
    "## 3.2 Preparação das bases\n",
    "Inserção dos dados das amostras no SQL e no MongoDB"
   ],
   "metadata": {
    "collapsed": false,
    "pycharm": {
     "name": "#%% md\n"
    }
   }
  },
  {
   "cell_type": "markdown",
   "source": [
    "### 3.2.1 Preparação dos dados de Bilhetagem"
   ],
   "metadata": {
    "collapsed": false
   }
  },
  {
   "cell_type": "code",
   "execution_count": null,
   "outputs": [],
   "source": [
    "pMov.inserirBilhetagemSQL(conexao,bilhe_path)\n",
    "pMov.inserirBilhetagemPlanarMongoDB(database_mongo,bilhe_path)"
   ],
   "metadata": {
    "collapsed": false,
    "pycharm": {
     "name": "#%%\n"
    }
   }
  },
  {
   "cell_type": "markdown",
   "source": [
    "## 3.2.2 Preparação dos dados de Parada"
   ],
   "metadata": {
    "collapsed": false
   }
  },
  {
   "cell_type": "code",
   "execution_count": null,
   "outputs": [],
   "source": [
    "pMov.inserirParadasSQL(conexao,parada_path)\n",
    "pMov.inserirParadasMongoDB(database_mongo,parada_path)"
   ],
   "metadata": {
    "collapsed": false,
    "pycharm": {
     "name": "#%%\n"
    }
   }
  },
  {
   "cell_type": "markdown",
   "source": [
    "## 3.3 Execução da análise\n",
    "Execução do procedimento da analisa da movimentação da parada"
   ],
   "metadata": {
    "collapsed": false
   }
  },
  {
   "cell_type": "code",
   "execution_count": null,
   "outputs": [],
   "source": [
    "data = '2018-11-19'\n",
    "id_parada = 21"
   ],
   "metadata": {
    "collapsed": false,
    "pycharm": {
     "name": "#%%\n"
    }
   }
  },
  {
   "cell_type": "code",
   "execution_count": null,
   "outputs": [],
   "source": [
    "pMov.movimentacaoPorParadasPartindoDeBilhetagemSQL(conexao,bilhe_path)\n",
    "pMov.movimentacaoPorParadasPartindoDeBilhetagemMongoDB(database_mongo, data,id_parada)"
   ],
   "metadata": {
    "collapsed": false,
    "pycharm": {
     "name": "#%%\n"
    }
   }
  }
 ],
 "metadata": {
  "kernelspec": {
   "display_name": "Python 3",
   "language": "python",
   "name": "python3"
  },
  "language_info": {
   "codemirror_mode": {
    "name": "ipython",
    "version": 2
   },
   "file_extension": ".py",
   "mimetype": "text/x-python",
   "name": "python",
   "nbconvert_exporter": "python",
   "pygments_lexer": "ipython2",
   "version": "2.7.6"
  }
 },
 "nbformat": 4,
 "nbformat_minor": 0
}